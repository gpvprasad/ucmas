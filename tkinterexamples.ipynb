{
 "cells": [
  {
   "cell_type": "code",
   "execution_count": null,
   "id": "b8d818b5-6305-453c-93dc-f7b51e107d57",
   "metadata": {
    "tags": []
   },
   "outputs": [],
   "source": [
    "import tkinter as tk\n",
    "from tkinter import ttk\n",
    "\n",
    "# Create the main window\n",
    "root = tk.Tk()\n",
    "root.title(\"Checkbox and Entry Box\")\n",
    "\n",
    "# Create a label for the checkbox\n",
    "checkbox_label = ttk.Label(root, text=\"Check this box:\")\n",
    "checkbox_label.grid(column=0, row=0)\n",
    "\n",
    "# Create the checkbox\n",
    "checkbox_var = tk.BooleanVar()\n",
    "checkbox = ttk.Checkbutton(root, variable=checkbox_var)\n",
    "checkbox.grid(column=1, row=0)\n",
    "\n",
    "# Create a label for the entry box\n",
    "entry_label = ttk.Label(root, text=\"Enter your name:\")\n",
    "entry_label.grid(column=2, row=0)\n",
    "\n",
    "# Create the entry box\n",
    "entry_var = tk.StringVar()\n",
    "entry_box = ttk.Entry(root, textvariable=entry_var)\n",
    "entry_box.grid(column=3, row=0)\n",
    "\n",
    "# Define a function to be called when the checkbox is clicked\n",
    "def checkbox_clicked():\n",
    "    if checkbox_var.get():\n",
    "        print(\"Checkbox is checked\")\n",
    "    else:\n",
    "        print(\"Checkbox is not checked\")\n",
    "\n",
    "# Bind the function to the checkbox\n",
    "checkbox.config(command=checkbox_clicked)\n",
    "\n",
    "# Start the main loop\n",
    "root.mainloop()"
   ]
  },
  {
   "cell_type": "code",
   "execution_count": null,
   "id": "a959e8aa-c388-468b-9f9b-bede0020c5fe",
   "metadata": {
    "tags": []
   },
   "outputs": [],
   "source": [
    "from tkinter import *\n",
    "\n",
    "class Checkbar(Frame):\n",
    "    def __init__(self, parent=None, picks=[], side=LEFT, anchor=W):\n",
    "        Frame.__init__(self, parent)\n",
    "        self.vars = []\n",
    "\n",
    "        for pick in picks:\n",
    "            var = IntVar(value=1)\n",
    "            entry = Entry(self)\n",
    "            chk = Checkbutton(self, text=pick, variable=var, command=lambda v=var, e=entry: self.show_entry(v,e))\n",
    "            chk.pack(side=side, anchor=anchor, expand=YES)\n",
    "            entry.pack(side=side, anchor=anchor, expand=YES)\n",
    "            self.vars.append(var)\n",
    "\n",
    "    def show_entry(self, var, widget):\n",
    "        if var.get() == 0:\n",
    "            widget.configure(state='disabled')\n",
    "        else:\n",
    "            widget.configure(state='normal')"
   ]
  },
  {
   "cell_type": "code",
   "execution_count": null,
   "id": "8444cd6f-33f3-4f41-848b-98fe04db5070",
   "metadata": {
    "tags": []
   },
   "outputs": [],
   "source": [
    "root = tk.Tk()\n",
    "root.title(\"Checkbox and Entry Box\")\n",
    "w = LabelFrame(root, text ='Choose Activities', font = \"50\",padx=20, pady=20) \n",
    "w.pack(pady=20, padx=20)\n",
    "test = Checkbar(w,picks=[1,2,3])\n",
    "test.show_entry()"
   ]
  },
  {
   "cell_type": "code",
   "execution_count": null,
   "id": "d12a065e-3f80-4b13-a490-14227018af5c",
   "metadata": {
    "tags": []
   },
   "outputs": [],
   "source": [
    "root.mainloop()"
   ]
  },
  {
   "cell_type": "code",
   "execution_count": null,
   "id": "d501161b-53e6-40f6-9d29-6f8fbc1f0428",
   "metadata": {},
   "outputs": [],
   "source": [
    "# import tkinter module\n",
    "from tkinter import * \n",
    "from tkinter.ttk import *\n",
    "\n",
    "# creating main tkinter window/toplevel\n",
    "master = Tk()\n",
    "\n",
    "# this will create a label widget\n",
    "l1 = Label(master, text = \"Height\")\n",
    "l2 = Label(master, text = \"Width\")\n",
    "\n",
    "# grid method to arrange labels in respective\n",
    "# rows and columns as specified\n",
    "l1.grid(row = 0, column = 0, sticky = W, pady = 2)\n",
    "l2.grid(row = 1, column = 0, sticky = W, pady = 2)\n",
    "\n",
    "# entry widgets, used to take entry from user\n",
    "e1 = Entry(master)\n",
    "e2 = Entry(master)\n",
    "\n",
    "# this will arrange entry widgets\n",
    "e1.grid(row = 0, column = 1, pady = 2)\n",
    "e2.grid(row = 1, column = 1, pady = 2)\n",
    "\n",
    "# checkbutton widget\n",
    "c1 = Checkbutton(master, text = \"Preserve\")\n",
    "c1.grid(row = 2, column = 0, sticky = W, columnspan = 2)\n",
    "\n",
    "# adding image (remember image should be PNG and not JPG)\n",
    "img = PhotoImage(file = r\"tomato.png\")\n",
    "img1 = img.subsample(2, 2)\n",
    "\n",
    "# setting image with the help of label\n",
    "Label(master, image = img1).grid(row = 0, column = 2,\n",
    "\tcolumnspan = 2, rowspan = 2, padx = 5, pady = 5)\n",
    "\n",
    "# button widget\n",
    "b1 = Button(master, text = \"Zoom in\")\n",
    "b2 = Button(master, text = \"Zoom out\")\n",
    "\n",
    "# arranging button widgets\n",
    "b1.grid(row = 2, column = 2, sticky = E)\n",
    "b2.grid(row = 2, column = 3, sticky = E)\n",
    "\n",
    "# infinite loop which can be terminated\n",
    "# by keyboard or mouse interrupt\n",
    "mainloop()\n"
   ]
  },
  {
   "cell_type": "code",
   "execution_count": null,
   "id": "b9290aad-6f9e-4f56-abe0-bdc2927b030b",
   "metadata": {},
   "outputs": [],
   "source": [
    "from inspect import currentframe, getframeinfo\n",
    "frameinfo = getframeinfo(currentframe())\n",
    "\n",
    "print(frameinfo.filename, frameinfo.lineno)"
   ]
  }
 ],
 "metadata": {
  "kernelspec": {
   "display_name": "Python 3 (ipykernel)",
   "language": "python",
   "name": "python3"
  },
  "language_info": {
   "codemirror_mode": {
    "name": "ipython",
    "version": 3
   },
   "file_extension": ".py",
   "mimetype": "text/x-python",
   "name": "python",
   "nbconvert_exporter": "python",
   "pygments_lexer": "ipython3",
   "version": "3.11.4"
  }
 },
 "nbformat": 4,
 "nbformat_minor": 5
}
