{
 "cells": [
  {
   "cell_type": "code",
   "execution_count": null,
   "id": "4a4aea31-9422-4e24-b5ba-4ad6fee52822",
   "metadata": {
    "tags": []
   },
   "outputs": [],
   "source": [
    "import math\n",
    "from ctypes import alignment\n",
    "from tkinter import *\n",
    "from tkinter import messagebox as mb\n",
    "import random as rd\n",
    "import csv\n",
    "from ShowResult import disp_csv\n",
    "from quiz import quizformat,openQuizUi\n",
    "import json\n",
    "import recordandsave as rs\n",
    "import complement_supplement as cs\n",
    "from genericfunctions import *\n",
    "from TimerHandle import timerhandle as th\n",
    "# ---------------------------- CONSTANTS ------------------------------- #\n",
    "PINK = \"#e2979c\"\n",
    "RED = \"#e7305b\"\n",
    "GREEN = \"#9bdeac\"\n",
    "YELLOW = \"#f7f5dd\"\n",
    "FONT_NAME = \"Courier\"\n",
    "SECOND_MS = 1000"
   ]
  },
  {
   "cell_type": "code",
   "execution_count": null,
   "id": "75c0851c-1f0a-4e3d-931c-5db8bc6d098d",
   "metadata": {
    "tags": []
   },
   "outputs": [],
   "source": [
    "#Helper functions"
   ]
  },
  {
   "cell_type": "code",
   "execution_count": null,
   "id": "766904dd-6ac3-4f19-bdc7-243377231518",
   "metadata": {
    "tags": []
   },
   "outputs": [],
   "source": [
    "def func_stop():\n",
    "    global timer\n",
    "    global t\n",
    "    window.after_cancel(timer)\n",
    "    canvas.itemconfig(timer_text, text=f'00:00')\n",
    "    timer = None\n",
    "    t.show_score()\n",
    "    #print(t)\n",
    "    window.unbind(\"<Key>\")\n",
    "    del t\n",
    "    t= None\n",
    "    mathstution_label.config(text='mathstution')\n",
    "    start_button[\"state\"] = \"normal\""
   ]
  },
  {
   "cell_type": "code",
   "execution_count": null,
   "id": "15a59d9b",
   "metadata": {
    "lines_to_next_cell": 1,
    "tags": []
   },
   "outputs": [],
   "source": [
    "def validateFunction(a,b,c=5,d=5,e=None,f=None):\n",
    "    if None == e:\n",
    "        if (a+b == 5) and (c+d==10):\n",
    "            return ('✓','✓')\n",
    "        elif (a+b == 5) and (c+d!=10):\n",
    "            return ('✓','X')\n",
    "        elif (a+b != 5) and (c+d==10):\n",
    "            return ('X','✓')\n",
    "        else:\n",
    "            return ('X','X')\n",
    "    else:\n",
    "        if a == b+e:\n",
    "            return ('✓')\n",
    "        else:\n",
    "            return ('X')"
   ]
  },
  {
   "cell_type": "code",
   "execution_count": null,
   "id": "5cd8687a-799d-4202-ba14-914473f52a06",
   "metadata": {
    "tags": []
   },
   "outputs": [],
   "source": [
    "def validateFunctionMultiplication(a,b,e):\n",
    "    if (a*b == e):\n",
    "        return ('✓','✓')\n",
    "    else:\n",
    "        return ('X','X')"
   ]
  },
  {
   "cell_type": "code",
   "execution_count": null,
   "id": "df27da3d-9ec0-4f52-bd2f-823ff737a4b4",
   "metadata": {},
   "outputs": [],
   "source": [
    "# selection panel"
   ]
  },
  {
   "cell_type": "code",
   "execution_count": null,
   "id": "310261d1-ef1f-447a-8151-dd0dadba7e75",
   "metadata": {
    "tags": []
   },
   "outputs": [],
   "source": [
    "root = Tk()\n",
    "root.geometry(\"900x450\")\n",
    "  \n",
    "w = LabelFrame(root, text ='Choose Activities', font = \"50\",padx=20, pady=20) \n",
    "w.pack(pady=20, padx=20)\n",
    "  \n",
    "CS = IntVar()  \n",
    "T1T2 = IntVar()  \n",
    "TablesMul = IntVar()\n",
    "TestAddSub = IntVar()\n",
    "MultiplicationTest = IntVar()\n",
    "sumOfNNumbers = IntVar()\n",
    "\n",
    "Button1 = Checkbutton(w, text = \"Complement & Supplement\", \n",
    "                      variable = CS,\n",
    "                      onvalue = 1,\n",
    "                      offvalue = 0,\n",
    "                      height = 2,width =150,anchor=\"w\")\n",
    "Button1.pack()  \n",
    "\n",
    "Button2 = Checkbutton(w, text = \"Test 1 (0 = 5-5) & Test 2 (0 = 10-5-5) \",\n",
    "                      variable = T1T2,\n",
    "                      onvalue = 1,\n",
    "                      offvalue = 0,\n",
    "                      height = 2,width =150,anchor=\"w\")\n",
    "Button2.pack()\n",
    "\n",
    "Button3 = Checkbutton(w, text = \"Tables 1 to 10\",\n",
    "                      variable = TablesMul,\n",
    "                      onvalue = 1,\n",
    "                      offvalue = 0,\n",
    "                      height = 2,width =150,anchor=\"w\")  \n",
    "Button3.pack()\n",
    "c0 = Frame(w,highlightbackground=\"green\",highlightthickness=2)\n",
    "Button4 = Checkbutton(c0, text = \"Sum of N Numbers\",\n",
    "                      variable = sumOfNNumbers,\n",
    "                      onvalue = 1,\n",
    "                      offvalue = 0,\n",
    "                      height = 2,anchor=\"w\")  \n",
    "Button4.grid(row=0,column = 0,rowspan = 2)\n",
    "Label(c0,text = \"N\").grid(row =0,column =1)\n",
    "e0 = IntVar(value =10 )\n",
    "ex = Entry(c0, width=5, fg='blue', justify='center',textvariable=e0)\n",
    "ex.grid(row=1, column=1)\n",
    "c0.pack(anchor=W)\n",
    "\n",
    "#addition substraction configuration\n",
    "c0 = Frame(w,highlightbackground=\"green\",highlightthickness=2,width=800)\n",
    "Button5 = Checkbutton(c0, text = \"Addition substraction test\",\n",
    "                      variable = TestAddSub,\n",
    "                      onvalue = 1,\n",
    "                      offvalue = 0,\n",
    "                      height = 2,anchor=\"w\")  \n",
    "Button5.grid(row=0,column = 0,rowspan = 2)\n",
    "Label(c0,text = \"maths grade\").grid(row =0,column =1)\n",
    "\n",
    "e1 = IntVar(value =1 )\n",
    "ex = Entry(c0, width=5, fg='blue', justify='center',textvariable=e1)\n",
    "ex.grid(row=1, column=1)\n",
    "\n",
    "e3 = IntVar(value = 100)\n",
    "Label(c0,text=\"Target\").grid(row=0,column=2)\n",
    "ex = Entry(c0,width=5, fg='blue',  justify='center',textvariable=e3)\n",
    "ex.grid(row=1, column=2)\n",
    "Label(c0,text='max sum').grid(row = 0,column=3)\n",
    "\n",
    "e2 = IntVar(value=9)\n",
    "ex = Entry(c0, width=5, fg='blue', justify='center',textvariable=e2)\n",
    "ex.grid(row=1, column=3)\n",
    "c0.pack(anchor=\"w\")\n",
    "\n",
    "Label(c0,text=\"Duration in mins\").grid(row=0,column=4)\n",
    "e4 = IntVar(value = 10)\n",
    "ex = Entry(c0, width=5, fg='blue', bg=YELLOW, justify='center',textvariable=e4)\n",
    "ex.grid(row=1, column=4)\n",
    "\n",
    "v = IntVar()\n",
    "v.set(1)  # initializing the choice, i.e. Python\n",
    "def ShowChoice():\n",
    "    print(v.get())\n",
    "o1 = Canvas(c0)\n",
    "o1.create_text(300, 50, text=\"Summing model\", fill=\"black\", font=('Helvetica 15 bold'))\n",
    "\n",
    "Radiobutton(o1, \n",
    "            text=\"9+9-9...\",\n",
    "            padx = 20, \n",
    "            variable=v, \n",
    "            command=ShowChoice,\n",
    "            value=0).pack(anchor=W)\n",
    "Radiobutton(o1, \n",
    "            text=\"maxno+9-9...\",\n",
    "            padx = 20, \n",
    "            variable=v, \n",
    "            command=ShowChoice,\n",
    "            value=1).pack(anchor=W)\n",
    "\n",
    "Radiobutton(o1, \n",
    "            text=\"maxno+maxno-maxno...\",\n",
    "            padx = 20, \n",
    "            variable=v, \n",
    "            command=ShowChoice,\n",
    "            value=2).pack(anchor=W)\n",
    "\n",
    "o1.grid(row=0, column=5,rowspan=2)\n",
    "#multiplication configuration\n",
    "c1 = Frame(w,highlightbackground=\"green\",highlightthickness=2,width=800)\n",
    "Button6 = Checkbutton(c1, text = \"Multiplication test\",\n",
    "                      variable = MultiplicationTest,\n",
    "                      onvalue = 1,\n",
    "                      offvalue = 0,\n",
    "                      height = 2,anchor=\"w\")  \n",
    "# Create the entry box\n",
    "entry_var = StringVar()\n",
    "entry_box = Entry(c1, textvariable=entry_var)\n",
    "maxnumber = Label(c1,\n",
    "                      text = \"enter max multiplication number\",highlightbackground=\"blue\",highlightthickness=2)\n",
    "Button6.grid(row = 0,column=0)\n",
    "maxnumber.grid(row = 0,column=1)\n",
    "entry_box.grid(row = 0,column=2)\n",
    "c1.pack(anchor=\"w\")\n",
    "b1 = Button(w,text='Start',command=root.destroy,anchor=\"w\")\n",
    "b1.pack()\n",
    "mainloop() "
   ]
  },
  {
   "cell_type": "code",
   "execution_count": null,
   "id": "1818747a-bc81-4849-bb4e-f3c9e24d3af8",
   "metadata": {},
   "outputs": [],
   "source": [
    "# complement supplement"
   ]
  },
  {
   "cell_type": "code",
   "execution_count": null,
   "id": "bb4768c7",
   "metadata": {
    "tags": []
   },
   "outputs": [],
   "source": [
    "if CS.get() == 1:\n",
    "    complementsummassion = cs.complement_supplement('Complement',validateFunction,'Supplement',10)\n",
    "    group1=[(i,5-i) for i in range(0,5)]*2\n",
    "    rd.shuffle(group1)\n",
    "    group2 = [(i,10-i) for i in range(0,10)]\n",
    "    rd.shuffle(group2)\n",
    "    complementsummassion.filldata(group1=group1,group2=group2)\n",
    "    complementsummassion.startdisplay()"
   ]
  },
  {
   "cell_type": "code",
   "execution_count": null,
   "id": "f2aff69b-2c70-4c92-8c95-9085662f544a",
   "metadata": {},
   "outputs": [],
   "source": [
    "if T1T2.get() ==1:\n",
    "    group1 = [(i,10-i) for i in range(1,11)]\n",
    "    T1test = cs.complement_supplement('Test 1 (0 = 5-5)',validateFunction,noofRows = len(group1),noofColumns=4)\n",
    "    T1test.filldata(group1=group1,group2=5)\n",
    "    group1 = [(i,10-i) for i in range(1,11)]\n",
    "    T2test = cs.complement_supplement('Test2 (0 = 10-5-5)',validateFunction,noofRows = len(group1),noofColumns=5)\n",
    "    T2test.filldata(group1=group1,group2=10,group3=-5)\n",
    "    T1test.startdisplay()\n",
    "    T2test.startdisplay()"
   ]
  },
  {
   "cell_type": "code",
   "execution_count": null,
   "id": "fad08d86-ac61-456c-b063-f173a695d01d",
   "metadata": {},
   "outputs": [],
   "source": [
    "#Tables 1 to 10"
   ]
  },
  {
   "cell_type": "code",
   "execution_count": null,
   "id": "7fd743db-1fa1-4772-a9d3-735c91c8e48b",
   "metadata": {
    "tags": []
   },
   "outputs": [],
   "source": [
    "if TablesMul.get() ==1:\n",
    "    for j in range(1,11):\n",
    "        group1 = [(i,10-i) for i in range(1,10)]\n",
    "        complementsummassion = cs.complement_supplement('Multiplication '+str(j),validateFunctionMultiplication,noofRows = len(group1),noofColumns=4)\n",
    "        complementsummassion.filldata(group1=group1,group2=j)\n",
    "        complementsummassion.startdisplay()"
   ]
  },
  {
   "cell_type": "code",
   "execution_count": null,
   "id": "8a323b46-f513-456f-9b0c-95cc039ca5a3",
   "metadata": {},
   "outputs": [],
   "source": [
    "sumN = 0\n",
    "posN =0\n",
    "def valSumNnumbers(a,b,c=5,d=5,e=None,f=None):\n",
    "    global sumNTest,posN,sumN\n",
    "    print(a,b,c,d,e)\n",
    "    \n",
    "    if e == b+a and posN == e0.get():\n",
    "        return ('✓')\n",
    "    elif e == b+a:\n",
    "        sumN +=posN\n",
    "        group1 = [(sumN,1)]\n",
    "        posN+=1\n",
    "        sumNTest.refershdata(group1=group1,group2=posN)\n",
    "        return ('-')\n",
    "    else:\n",
    "        return ('X')\n",
    "if sumOfNNumbers.get() ==1:\n",
    "    sumNTest = cs.complement_supplement('Sum of ' +str(e0.get())+' numbers',valSumNnumbers,noofRows=1,noofColumns=4)\n",
    "    group1 = [(sumN,1)]\n",
    "    posN+=1\n",
    "    sumNTest.filldata(group1=group1,group2=posN)\n",
    "    sumNTest.startdisplay()"
   ]
  },
  {
   "cell_type": "markdown",
   "id": "d0e16d5e-e6fa-46a1-9276-1bddf6e8788b",
   "metadata": {},
   "source": [
    "Python program to create a table for ucmas test"
   ]
  },
  {
   "cell_type": "code",
   "execution_count": null,
   "id": "d8889b08",
   "metadata": {
    "tags": []
   },
   "outputs": [],
   "source": [
    "class Table:\n",
    "\n",
    "    def __init__(self, root,row,column):\n",
    "        self.root = root\n",
    "        self.row = row\n",
    "        self.column = column\n",
    "        self.timer = None\n",
    "        self.e = []\n",
    "        self.ans = None\n",
    "        self.lst = []\n",
    "        self.problems = 0\n",
    "        self.score = 0\n",
    "        self.insert_table(True)\n",
    "        self.target = int(e3.get())\n",
    "        self.maths_answersheet = rs.recordandsave(['problem','correct_answer','answer','status'])\n",
    "        #print('insert table called init')\n",
    "\n",
    "    \n",
    "\n",
    "    def insert_table(self,starting = False):\n",
    "        if self.timer != None:\n",
    "            self.root.after_cancel(self.timer)\n",
    "        # code for creating table\n",
    "        ucmactest(self,starting,e1,e2,e3,e4,v.get(),True)\n",
    "        total_rows = len(self.lst)\n",
    "        #print(total_rows)\n",
    "        if not starting:\n",
    "            self.e = []\n",
    "\n",
    "        for i in range(total_rows):\n",
    "            self.e.append( Entry(self.root, width=5, fg='blue', bg=YELLOW, justify='center',\n",
    "                        font=('Arial', 16, 'bold')))\n",
    "            print(i,i+self.row,self.column)\n",
    "\n",
    "            self.e[i].grid(row=i+self.row, column=self.column)\n",
    "            if not starting:\n",
    "                self.e[i].insert(END, self.lst[i])\n",
    "            self.e[i].configure(state=DISABLED)\n",
    "        if starting:\n",
    "            self.ans = Entry(self.root, width=5, fg='blue',bg=YELLOW,justify='center',\n",
    "                         font=('Arial', 16, 'bold'))\n",
    "            self.ans.grid(row=total_rows + self.row+1, column=self.column)\n",
    "            \n",
    "        if not starting:\n",
    "            self.ans.grid(row=total_rows + self.row+1, column=self.column)\n",
    "            self.ans.option_clear()\n",
    "            self.problems += 1\n",
    "            self.maths_answersheet.addData(problem = tuple(self.lst),correct_answer = sum(self.lst),answer='',status = 'X')\n",
    "            self.ans.delete(0, END)\n",
    "\n",
    "\n",
    "    def key_handler(self,event):\n",
    "        #print(event.char, event.keysym, event.keycode)\n",
    "        self.ans.insert(0,event.char)\n",
    "        self.maths_answersheet.modifyLatest(answer=int(event.char))\n",
    "        if sum(self.lst) == int(event.char):\n",
    "            self.score +=1\n",
    "            self.maths_answersheet.modifyLatest(status = '✓')\n",
    "        self.timer = self.root.after(SECOND_MS//5, self.insert_table)\n",
    "\n",
    "    def show_score(self):\n",
    "        mb.showinfo(\"Result\",f\"score={self.score}\\nattempted={self.problems}\\nTarget={self.target}\")\n",
    "        self.maths_answersheet.saveData()\n",
    "        k = disp_csv()\n",
    "\n",
    "    def __del__(self):\n",
    "        #self.root.after_cancel(self.timer)\n",
    "        #print(\"Object deleted\")\n",
    "        pass"
   ]
  },
  {
   "cell_type": "code",
   "execution_count": null,
   "id": "ab65c73f",
   "metadata": {
    "tags": []
   },
   "outputs": [],
   "source": [
    "states = {\n",
    "    '8_1':{'Nextstates': 'ShowResult'}\n",
    "}\n",
    "timer = None\n",
    "t = None"
   ]
  },
  {
   "cell_type": "code",
   "execution_count": null,
   "id": "628910f9-393b-469c-9a77-fc15ded5081e",
   "metadata": {
    "tags": []
   },
   "outputs": [],
   "source": [
    "def openQuiz():\n",
    "    openQuizUi(window,e1,e2,e3,e4,v.get())\n",
    "def func_reset_count(count=-1,state='Nokey'):\n",
    "\n",
    "    #print(f'{count} {state}')\n",
    "    global timer\n",
    "    global t\n",
    "    start_button[\"state\"] = \"disabled\"\n",
    "    if int(e2.get())>9:\n",
    "        switchtoquiz = mb.askokcancel(\"askokcancel\", \"Total greater than 9, not possible in this window Want to continue to quiz format?\")\n",
    "        if switchtoquiz == 1:\n",
    "            openQuiz()\n",
    "\n",
    "    if state != 'Nokey' and timer == None:\n",
    "        canvas.itemconfig(timer_text, text=f'00:00')\n",
    "    elif(count>0):\n",
    "        count_sec = count%60\n",
    "        if count_sec < 10:\n",
    "            count_sec = f\"0{count_sec}\"\n",
    "        canvas.itemconfig(timer_text, text=f'{count//60}:{count_sec}')\n",
    "        timer = window.after(SECOND_MS, func_reset_count, count - 1,state)\n",
    "    elif count == -1 and timer == None:\n",
    "        if t == None:\n",
    "            t = Table(window, row=3, column=0)\n",
    "        #print('insert table called first time')\n",
    "        t.insert_table()\n",
    "        state = '8_1'\n",
    "        count = int(e4.get()) *60\n",
    "        canvas.itemconfig(timer_text, text=f'{count//60}:00')\n",
    "        window.bind(\"<Key>\", t.key_handler)\n",
    "\n",
    "        timer = window.after(SECOND_MS, func_reset_count, count - 1,state)\n",
    "    elif count == 0:\n",
    "        func_stop()"
   ]
  },
  {
   "cell_type": "code",
   "execution_count": null,
   "id": "52683b3a-b157-4770-95b1-cb8217a50dbc",
   "metadata": {
    "tags": []
   },
   "outputs": [],
   "source": [
    "if TestAddSub.get()==1:\n",
    "    window = Tk()\n",
    "    if int(e2.get())>9:\n",
    "        print('opening quiz')\n",
    "        openQuizUi(window,e1,e2,e3,e4,v.get())\n",
    "    else:\n",
    "        window.title('mathstution')\n",
    "        window.config(padx=100,pady=50,bg=YELLOW)\n",
    "        mathstution_label = Label(text='mathstution',fg = GREEN, font=(FONT_NAME,50,'bold'),bg=YELLOW)\n",
    "        mathstution_label.grid(row = 0,column=0)\n",
    "\n",
    "        canvas = Canvas(width=200,height=230,bg=YELLOW,highlightthickness=0)\n",
    "        tomato_img = PhotoImage(file='tomato.png')\n",
    "\n",
    "        canvas.create_image(100,112,image=tomato_img)\n",
    "        timer_text = canvas.create_text(103,130,text='00:00',fill = 'white',font=(FONT_NAME,35,'bold'))\n",
    "        canvas.grid(row = 1,column=0,columnspan=2)\n",
    "\n",
    "        start_button = Button(text='Start',command=func_reset_count)\n",
    "        start_button.grid(row=2,column=0)\n",
    "\n",
    "        t = Table(window, row=3, column=0)\n",
    "\n",
    "    window.mainloop()"
   ]
  },
  {
   "cell_type": "code",
   "execution_count": null,
   "id": "d1fd3d6e-c45b-4b11-b869-c9b157596e1d",
   "metadata": {
    "tags": []
   },
   "outputs": [],
   "source": [
    "# Multiplication of random numbers"
   ]
  },
  {
   "cell_type": "code",
   "execution_count": null,
   "id": "f4b7a7f2-6711-4128-8e53-047bbc8c21dd",
   "metadata": {},
   "outputs": [],
   "source": [
    "if MultiplicationTest.get() ==1:\n",
    "    if len(entry_var.get()) == 0:\n",
    "        group1 = [(rd.randint(1, 9),10-i) for i in range(1,10)]\n",
    "        complementsummassion = cs.complement_supplement('Multiplication Test',validateFunctionMultiplication,noofRows = len(group1),noofColumns=4)\n",
    "        complementsummassion.filldata(group1=group1,group2=[rd.randint(1, 10) for i in range(1,10)])\n",
    "    else:\n",
    "        group1 = [(rd.randint(1, int(entry_var.get())),10-i) for i in range(1,10)]\n",
    "        complementsummassion = cs.complement_supplement('Multiplication Test',validateFunctionMultiplication,noofRows = len(group1),noofColumns=4)\n",
    "        complementsummassion.filldata(group1=group1,group2=[rd.randint(1, int(entry_var.get())) for i in range(1,10)])\n",
    "    complementsummassion.startdisplay()"
   ]
  }
 ],
 "metadata": {
  "jupytext": {
   "cell_metadata_filter": "-all",
   "formats": "ipynb,py"
  },
  "kernelspec": {
   "display_name": "Python 3 (ipykernel)",
   "language": "python",
   "name": "python3"
  },
  "language_info": {
   "codemirror_mode": {
    "name": "ipython",
    "version": 3
   },
   "file_extension": ".py",
   "mimetype": "text/x-python",
   "name": "python",
   "nbconvert_exporter": "python",
   "pygments_lexer": "ipython3",
   "version": "3.11.4"
  }
 },
 "nbformat": 4,
 "nbformat_minor": 5
}
