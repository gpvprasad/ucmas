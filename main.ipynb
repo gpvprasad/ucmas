{
 "cells": [
  {
   "cell_type": "code",
   "execution_count": null,
   "id": "d61c7884",
   "metadata": {
    "tags": []
   },
   "outputs": [],
   "source": [
    "import math\n",
    "from ctypes import alignment\n",
    "from tkinter import *\n",
    "from tkinter import messagebox as mb\n",
    "import random as rd\n",
    "import csv\n",
    "from ShowResult import disp_csv\n",
    "from quiz import quizformat,openQuizUi\n",
    "import json\n",
    "import recordandsave as rs\n",
    "import complement_supplement as cs\n",
    "from genericfunctions import *\n",
    "from TimerHandle import timerhandle as th\n",
    "# ---------------------------- CONSTANTS ------------------------------- #\n",
    "PINK = \"#e2979c\"\n",
    "RED = \"#e7305b\"\n",
    "GREEN = \"#9bdeac\"\n",
    "YELLOW = \"#f7f5dd\"\n",
    "FONT_NAME = \"Courier\"\n",
    "SECOND_MS = 1000"
   ]
  },
  {
   "cell_type": "markdown",
   "id": "39acc473",
   "metadata": {},
   "source": [
    "Python program to create a table"
   ]
  },
  {
   "cell_type": "code",
   "execution_count": null,
   "id": "67011a04",
   "metadata": {
    "lines_to_next_cell": 1,
    "tags": []
   },
   "outputs": [],
   "source": [
    "from tkinter import *"
   ]
  },
  {
   "cell_type": "code",
   "execution_count": null,
   "id": "15a59d9b",
   "metadata": {
    "lines_to_next_cell": 1,
    "tags": []
   },
   "outputs": [],
   "source": [
    "def validateFunction(a,b,c=5,d=5,e=None,f=None):\n",
    "    if None == e:\n",
    "        if (a+b == 5) and (c+d==10):\n",
    "            return ('✓','✓')\n",
    "        elif (a+b == 5) and (c+d!=10):\n",
    "            return ('✓','X')\n",
    "        elif (a+b != 5) and (c+d==10):\n",
    "            return ('X','✓')\n",
    "        else:\n",
    "            return ('X','X')\n",
    "    else:\n",
    "        if a == b+e:\n",
    "            return ('✓')\n",
    "        else:\n",
    "            return ('X')"
   ]
  },
  {
   "cell_type": "code",
   "execution_count": null,
   "id": "bb4768c7",
   "metadata": {
    "tags": []
   },
   "outputs": [],
   "source": [
    "complementsummassion = cs.complement_supplement('Complement',validateFunction,'Supplement',10)\n",
    "group1=[(i,5-i) for i in range(0,5)]*2\n",
    "rd.shuffle(group1)\n",
    "group2 = [(i,10-i) for i in range(0,10)]\n",
    "rd.shuffle(group2)\n",
    "complementsummassion.filldata(group1=group1,group2=group2)\n",
    "complementsummassion.startdisplay()"
   ]
  },
  {
   "cell_type": "code",
   "execution_count": null,
   "id": "b630e89c-ef93-4e82-8246-df7f33f3bcaf",
   "metadata": {
    "tags": []
   },
   "outputs": [],
   "source": [
    "group1 = [(i,10-i) for i in range(1,10)]\n",
    "complementsummassion = cs.complement_supplement('Test1',validateFunction,noofRows = len(group1),noofColumns=4)\n",
    "complementsummassion.filldata(group1=group1,group2=5)\n",
    "complementsummassion.startdisplay()"
   ]
  },
  {
   "cell_type": "code",
   "execution_count": null,
   "id": "c6890cf5-114c-483e-b735-a9a3f9476b60",
   "metadata": {
    "tags": []
   },
   "outputs": [],
   "source": [
    "group1 = [(i,10-i) for i in range(1,10)]\n",
    "complementsummassion = cs.complement_supplement('Test2',validateFunction,noofRows = len(group1),noofColumns=5)\n",
    "complementsummassion.filldata(group1=group1,group2=10,group3=-5)\n",
    "complementsummassion.startdisplay()"
   ]
  },
  {
   "cell_type": "code",
   "execution_count": null,
   "id": "5cd8687a-799d-4202-ba14-914473f52a06",
   "metadata": {
    "tags": []
   },
   "outputs": [],
   "source": [
    "def validateFunctionMultiplication(a,b,e):\n",
    "    if (a*b == e):\n",
    "        return ('✓','✓')\n",
    "    else:\n",
    "        return ('X','X')"
   ]
  },
  {
   "cell_type": "code",
   "execution_count": null,
   "id": "7fd743db-1fa1-4772-a9d3-735c91c8e48b",
   "metadata": {
    "tags": []
   },
   "outputs": [],
   "source": [
    "for j in range(1,11):\n",
    "    group1 = [(i,10-i) for i in range(1,10)]\n",
    "    complementsummassion = cs.complement_supplement('Multiplication '+str(j),validateFunctionMultiplication,noofRows = len(group1),noofColumns=4)\n",
    "    complementsummassion.filldata(group1=group1,group2=j)\n",
    "    complementsummassion.startdisplay()"
   ]
  },
  {
   "cell_type": "code",
   "execution_count": null,
   "id": "d8889b08",
   "metadata": {
    "tags": []
   },
   "outputs": [],
   "source": [
    "class Table:\n",
    "\n",
    "    def __init__(self, root,row,column):\n",
    "        self.root = root\n",
    "        self.row = row\n",
    "        self.column = column\n",
    "        self.timer = None\n",
    "        self.e = []\n",
    "        self.ans = None\n",
    "        self.lst = []\n",
    "        self.problems = 0\n",
    "        self.score = 0\n",
    "        self.insert_table(True)\n",
    "        self.target = int(e3.get())\n",
    "        self.maths_answersheet = rs.recordandsave(['problem','correct_answer','answer','status'])\n",
    "        #print('insert table called init')\n",
    "\n",
    "    \n",
    "\n",
    "    def insert_table(self,starting = False):\n",
    "        if self.timer != None:\n",
    "            self.root.after_cancel(self.timer)\n",
    "        # code for creating table\n",
    "        ucmactest(self,starting,e1,e2,e3,e4,v.get(),True)\n",
    "        total_rows = len(self.lst)\n",
    "        #print(total_rows)\n",
    "        if not starting:\n",
    "            for rowno, row in reversed(list(enumerate(self.e))):\n",
    "                    self.e[rowno].destroy()\n",
    "            self.e = []\n",
    "\n",
    "        for i in range(total_rows):\n",
    "            self.e.append( Entry(self.root, width=5, fg='blue', bg=YELLOW, justify='center',\n",
    "                        font=('Arial', 16, 'bold')))\n",
    "            print(i,i+self.row,self.column)\n",
    "\n",
    "            self.e[i].grid(row=i+self.row, column=self.column)\n",
    "            if not starting:\n",
    "                self.e[i].insert(END, self.lst[i])\n",
    "            self.e[i].configure(state=DISABLED)\n",
    "        if starting:\n",
    "            self.ans = Entry(self.root, width=5, fg='blue',bg=YELLOW,justify='center',\n",
    "                         font=('Arial', 16, 'bold'))\n",
    "            self.ans.grid(row=total_rows + self.row+1, column=self.column)\n",
    "            \n",
    "        if not starting:\n",
    "            self.ans.grid(row=total_rows + self.row+1, column=self.column)\n",
    "            self.ans.option_clear()\n",
    "            self.problems += 1\n",
    "            self.maths_answersheet.addData(problem = tuple(self.lst),correct_answer = sum(self.lst),answer='',status = 'X')\n",
    "            self.ans.delete(0, END)\n",
    "\n",
    "\n",
    "    def key_handler(self,event):\n",
    "        #print(event.char, event.keysym, event.keycode)\n",
    "        self.ans.insert(0,event.char)\n",
    "        self.maths_answersheet.modifyLatest(answer=int(event.char))\n",
    "        if sum(self.lst) == int(event.char):\n",
    "            self.score +=1\n",
    "            self.maths_answersheet.modifyLatest(status = '✓')\n",
    "        self.timer = self.root.after(SECOND_MS//5, self.insert_table)\n",
    "\n",
    "    def show_score(self):\n",
    "        mb.showinfo(\"Result\",f\"score={self.score}\\nattempted={self.problems}\\nTarget={self.target}\")\n",
    "        e1.configure(state=NORMAL)\n",
    "        e2.configure(state=NORMAL)\n",
    "        e3.configure(state=NORMAL)\n",
    "        e4.configure(state=NORMAL)\n",
    "        self.maths_answersheet.saveData()\n",
    "        k = disp_csv()\n",
    "\n",
    "    def __del__(self):\n",
    "        #self.root.after_cancel(self.timer)\n",
    "        #print(\"Object deleted\")\n",
    "        pass"
   ]
  },
  {
   "cell_type": "code",
   "execution_count": null,
   "id": "ab65c73f",
   "metadata": {
    "tags": []
   },
   "outputs": [],
   "source": [
    "states = {\n",
    "    '8_1':{'Nextstates': 'ShowResult'}\n",
    "}"
   ]
  },
  {
   "cell_type": "code",
   "execution_count": null,
   "id": "6aa43dfa",
   "metadata": {
    "tags": []
   },
   "outputs": [],
   "source": [
    "timer = None\n",
    "t = None\n",
    "def openQuiz():\n",
    "    openQuizUi(window,e1,e2,e3,e4,v.get())\n",
    "def func_reset_count(count=-1,state='Nokey'):\n",
    "\n",
    "    #print(f'{count} {state}')\n",
    "    global timer\n",
    "    global t\n",
    "    start_button[\"state\"] = \"disabled\"\n",
    "    button[\"state\"] = \"disabled\"\n",
    "    if int(e2.get())>9:\n",
    "        switchtoquiz = mb.askokcancel(\"askokcancel\", \"Total greater than 9, not possible in this window Want to continue to quiz format?\")\n",
    "        if switchtoquiz == 1:\n",
    "            openQuiz()\n",
    "\n",
    "    if state != 'Nokey' and timer == None:\n",
    "        canvas.itemconfig(timer_text, text=f'00:00')\n",
    "    elif(count>0):\n",
    "        count_sec = count%60\n",
    "        if count_sec < 10:\n",
    "            count_sec = f\"0{count_sec}\"\n",
    "        canvas.itemconfig(timer_text, text=f'{count//60}:{count_sec}')\n",
    "        timer = window.after(SECOND_MS, func_reset_count, count - 1,state)\n",
    "    elif count == -1 and timer == None:\n",
    "        if t == None:\n",
    "            t = Table(window, row=3, column=1)\n",
    "        #print('insert table called first time')\n",
    "        t.insert_table()\n",
    "        state = '8_1'\n",
    "        count = int(e4.get()) *60\n",
    "        canvas.itemconfig(timer_text, text=f'{count//60}:00')\n",
    "        window.bind(\"<Key>\", t.key_handler)\n",
    "\n",
    "        timer = window.after(SECOND_MS, func_reset_count, count - 1,state)\n",
    "    elif count == 0:\n",
    "        func_stop()"
   ]
  },
  {
   "cell_type": "code",
   "execution_count": null,
   "id": "be6e2327",
   "metadata": {
    "lines_to_next_cell": 1,
    "tags": []
   },
   "outputs": [],
   "source": [
    "def func_stop():\n",
    "    global timer\n",
    "    global t\n",
    "    window.after_cancel(timer)\n",
    "    canvas.itemconfig(timer_text, text=f'00:00')\n",
    "    timer = None\n",
    "    t.show_score()\n",
    "    #print(t)\n",
    "    window.unbind(\"<Key>\")\n",
    "    del t\n",
    "    t= None\n",
    "    mathstution_label.config(text='mathstution')\n",
    "    start_button[\"state\"] = \"normal\"\n",
    "    button[\"state\"] = \"normal\""
   ]
  },
  {
   "cell_type": "code",
   "execution_count": null,
   "id": "e06bea86",
   "metadata": {
    "tags": []
   },
   "outputs": [],
   "source": [
    "window = Tk()\n",
    "window.title('mathstution')\n",
    "window.config(padx=100,pady=50,bg=YELLOW)\n",
    "mathstution_label = Label(text='mathstution',fg = GREEN, font=(FONT_NAME,50,'bold'),bg=YELLOW)\n",
    "mathstution_label.grid(row = 0,column=1)"
   ]
  },
  {
   "cell_type": "code",
   "execution_count": null,
   "id": "e6bbf4c0",
   "metadata": {
    "tags": []
   },
   "outputs": [],
   "source": [
    "canvas2 = Canvas(width=200,height=224,bg=YELLOW,highlightthickness=0)\n",
    "mathstution_label = Label(canvas2,text='mathsgrade',fg = GREEN, font=(FONT_NAME,20,'bold'),bg=YELLOW)\n",
    "mathstution_label.place(relx = 0.0,\n",
    "                 rely = 1.0,anchor='sw')\n",
    "canvas2.grid(row = 1,column=0)"
   ]
  },
  {
   "cell_type": "code",
   "execution_count": null,
   "id": "72639240",
   "metadata": {
    "lines_to_next_cell": 2,
    "tags": []
   },
   "outputs": [],
   "source": [
    "canvas = Canvas(width=200,height=230,bg=YELLOW,highlightthickness=0)\n",
    "tomato_img = PhotoImage(file='tomato.png')"
   ]
  },
  {
   "cell_type": "code",
   "execution_count": null,
   "id": "749abf93",
   "metadata": {
    "tags": []
   },
   "outputs": [],
   "source": [
    "canvas.create_image(100,112,image=tomato_img)\n",
    "timer_text = canvas.create_text(103,130,text='00:00',fill = 'white',font=(FONT_NAME,35,'bold'))\n",
    "canvas.grid(row = 1,column=1,columnspan=2)"
   ]
  },
  {
   "cell_type": "code",
   "execution_count": null,
   "id": "d9e3664f",
   "metadata": {
    "tags": []
   },
   "outputs": [],
   "source": [
    "canvas2 = Canvas(width=275,height=224,bg=YELLOW,highlightthickness=0)\n",
    "mathstution_label = Label(canvas2,text='max total\\n(1-9)\\n >9 \\nchoose quizformat',fg = GREEN, font=(FONT_NAME,20,'bold'),bg=YELLOW)\n",
    "mathstution_label.place(relx = 0.0,\n",
    "                 rely = 1.0,anchor='sw')\n",
    "canvas2.grid(row = 0,column=3)"
   ]
  },
  {
   "cell_type": "code",
   "execution_count": null,
   "id": "addd2118",
   "metadata": {
    "lines_to_next_cell": 2,
    "tags": []
   },
   "outputs": [],
   "source": [
    "e1 = Entry(window, width=5, fg='blue', bg=YELLOW, justify='center',\n",
    "                           font=('Arial', 16, 'bold'))\n",
    "e1.grid(row=2, column=0)\n",
    "e1.insert(END,'1')"
   ]
  },
  {
   "cell_type": "code",
   "execution_count": null,
   "id": "cadb1eca",
   "metadata": {
    "tags": []
   },
   "outputs": [],
   "source": [
    "e2 = Entry(window, width=5, fg='blue', bg=YELLOW, justify='center',\n",
    "                           font=('Arial', 16, 'bold'))\n",
    "e2.grid(row=1, column=3)\n",
    "e2.insert(END,'9')"
   ]
  },
  {
   "cell_type": "code",
   "execution_count": null,
   "id": "be69e7ab",
   "metadata": {
    "tags": []
   },
   "outputs": [],
   "source": [
    "v = IntVar()\n",
    "v.set(1)  # initializing the choice, i.e. Python\n",
    "def ShowChoice():\n",
    "    print(v.get())\n",
    "o1 = Canvas()\n",
    "o1.create_text(300, 50, text=\"Summing model\", fill=\"black\", font=('Helvetica 15 bold'))"
   ]
  },
  {
   "cell_type": "code",
   "execution_count": null,
   "id": "c42e8373",
   "metadata": {
    "tags": []
   },
   "outputs": [],
   "source": [
    "Radiobutton(o1, \n",
    "            text=\"9+9-9...\",\n",
    "            padx = 20, \n",
    "            variable=v, \n",
    "            command=ShowChoice,\n",
    "            value=0).pack(anchor=W)\n",
    "Radiobutton(o1, \n",
    "            text=\"maxno+9-9...\",\n",
    "            padx = 20, \n",
    "            variable=v, \n",
    "            command=ShowChoice,\n",
    "            value=1).pack(anchor=W)"
   ]
  },
  {
   "cell_type": "code",
   "execution_count": null,
   "id": "063a9c35",
   "metadata": {
    "lines_to_next_cell": 2,
    "tags": []
   },
   "outputs": [],
   "source": [
    "Radiobutton(o1, \n",
    "            text=\"maxno+maxno-maxno...\",\n",
    "            padx = 20, \n",
    "            variable=v, \n",
    "            command=ShowChoice,\n",
    "            value=2).pack(anchor=W)"
   ]
  },
  {
   "cell_type": "code",
   "execution_count": null,
   "id": "dca786f9",
   "metadata": {
    "tags": []
   },
   "outputs": [],
   "source": [
    "o1.grid(row=2, column=3)\n",
    "Label(window, \n",
    "         text=\"Duration in mins\").grid(row=3,column=3)\n",
    "e4 = Entry(window, width=5, fg='blue', bg=YELLOW, justify='center',\n",
    "                           font=('Arial', 16, 'bold'))\n",
    "e4.grid(row=4, column=3)\n",
    "e4.insert(END,'10')"
   ]
  },
  {
   "cell_type": "code",
   "execution_count": null,
   "id": "c1a3801c",
   "metadata": {
    "tags": []
   },
   "outputs": [],
   "source": [
    "start_button = Button(text='Start',command=func_reset_count)\n",
    "start_button.grid(column=1,row=2)"
   ]
  },
  {
   "cell_type": "code",
   "execution_count": null,
   "id": "f6b8092b",
   "metadata": {
    "tags": []
   },
   "outputs": [],
   "source": [
    "Label(window, \n",
    "         text=\"Target\").grid(row=3,column=0)\n",
    "e3 = Entry(window,width=5, fg='blue', bg=YELLOW, justify='center',\n",
    "                           font=('Arial', 16, 'bold'))\n",
    "e3.grid(row=4, column=0)\n",
    "e3.insert(END,'100')                           \n",
    "button = Button(text='quiz',command=openQuiz)\n",
    "button.grid(column=0,row=5)"
   ]
  },
  {
   "cell_type": "code",
   "execution_count": null,
   "id": "cafbbfb4",
   "metadata": {
    "tags": []
   },
   "outputs": [],
   "source": [
    "t = Table(window, row=3, column=1)"
   ]
  },
  {
   "cell_type": "code",
   "execution_count": null,
   "id": "88874f88",
   "metadata": {
    "tags": []
   },
   "outputs": [],
   "source": [
    "#quizformat(window)\n",
    "window.mainloop()"
   ]
  },
  {
   "cell_type": "code",
   "execution_count": null,
   "id": "f4b7a7f2-6711-4128-8e53-047bbc8c21dd",
   "metadata": {},
   "outputs": [],
   "source": []
  }
 ],
 "metadata": {
  "jupytext": {
   "cell_metadata_filter": "-all",
   "formats": "ipynb,py"
  },
  "kernelspec": {
   "display_name": "Python 3 (ipykernel)",
   "language": "python",
   "name": "python3"
  },
  "language_info": {
   "codemirror_mode": {
    "name": "ipython",
    "version": 3
   },
   "file_extension": ".py",
   "mimetype": "text/x-python",
   "name": "python",
   "nbconvert_exporter": "python",
   "pygments_lexer": "ipython3",
   "version": "3.11.4"
  }
 },
 "nbformat": 4,
 "nbformat_minor": 5
}
